{
 "cells": [
  {
   "cell_type": "code",
   "execution_count": 1,
   "metadata": {},
   "outputs": [],
   "source": [
    "import jieba"
   ]
  },
  {
   "cell_type": "code",
   "execution_count": 2,
   "metadata": {},
   "outputs": [
    {
     "name": "stderr",
     "output_type": "stream",
     "text": [
      "Building prefix dict from the default dictionary ...\n",
      "Loading model from cache C:\\Users\\user\\AppData\\Local\\Temp\\jieba.cache\n",
      "Loading model cost 0.580 seconds.\n",
      "Prefix dict has been built succesfully.\n"
     ]
    },
    {
     "name": "stdout",
     "output_type": "stream",
     "text": [
      "Full Mode: 我/ 來/ 到/ 台中/ 教育/ 大/ 學\n"
     ]
    }
   ],
   "source": [
    "seg_list = jieba.cut(\"我來到台中教育大學\",cut_all=True)\n",
    "print (\"Full Mode:\", \"/ \".join(seg_list)) #全模式"
   ]
  },
  {
   "cell_type": "code",
   "execution_count": 3,
   "metadata": {},
   "outputs": [
    {
     "name": "stdout",
     "output_type": "stream",
     "text": [
      "Default Mode: 我來/ 到/ 台/ 中/ 教育/ 大學\n"
     ]
    }
   ],
   "source": [
    "seg_list = jieba.cut(\"我來到台中教育大學\",cut_all=False)\n",
    "print (\"Default Mode:\", \"/ \".join(seg_list)) #精確模式"
   ]
  },
  {
   "cell_type": "code",
   "execution_count": 4,
   "metadata": {},
   "outputs": [
    {
     "name": "stdout",
     "output_type": "stream",
     "text": [
      "我來, 到, 台, 中, 教育, 大學\n"
     ]
    }
   ],
   "source": [
    "seg_list = jieba.cut(\"我來到台中教育大學\") #默認是精確模式\n",
    "print (\", \".join(seg_list))"
   ]
  },
  {
   "cell_type": "code",
   "execution_count": 5,
   "metadata": {},
   "outputs": [
    {
     "name": "stdout",
     "output_type": "stream",
     "text": [
      "志明, 碩士, 畢業, 於, 台, 中, 教育, 大學, ，, 後, 在, 日本, 東京大學, 深造\n"
     ]
    }
   ],
   "source": [
    "seg_list = jieba.cut_for_search(\"志明碩士畢業於台中教育大學，後在日本東京大學深造\") #搜索引擎模式\n",
    "print (\", \".join(seg_list))"
   ]
  },
  {
   "cell_type": "code",
   "execution_count": null,
   "metadata": {},
   "outputs": [],
   "source": []
  }
 ],
 "metadata": {
  "kernelspec": {
   "display_name": "Python 3",
   "language": "python",
   "name": "python3"
  },
  "language_info": {
   "codemirror_mode": {
    "name": "ipython",
    "version": 3
   },
   "file_extension": ".py",
   "mimetype": "text/x-python",
   "name": "python",
   "nbconvert_exporter": "python",
   "pygments_lexer": "ipython3",
   "version": "3.6.5"
  }
 },
 "nbformat": 4,
 "nbformat_minor": 2
}
