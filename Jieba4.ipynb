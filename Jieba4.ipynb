{
 "cells": [
  {
   "cell_type": "code",
   "execution_count": 1,
   "metadata": {},
   "outputs": [],
   "source": [
    "import jieba"
   ]
  },
  {
   "cell_type": "code",
   "execution_count": 2,
   "metadata": {},
   "outputs": [],
   "source": [
    "jieba.set_dictionary('Dictionary/dict.txt.big.txt')"
   ]
  },
  {
   "cell_type": "code",
   "execution_count": 3,
   "metadata": {},
   "outputs": [
    {
     "name": "stderr",
     "output_type": "stream",
     "text": [
      "Building prefix dict from C:\\Users\\user\\Python\\Dictionary\\dict.txt.big.txt ...\n",
      "Loading model from cache C:\\Users\\user\\AppData\\Local\\Temp\\jieba.u7132ad7361c8679defa1d613150d5163.cache\n",
      "Loading model cost 1.274 seconds.\n",
      "Prefix dict has been built succesfully.\n"
     ]
    }
   ],
   "source": [
    "jieba.load_userdict('Dictionary/user_dict.txt')"
   ]
  },
  {
   "cell_type": "code",
   "execution_count": 4,
   "metadata": {},
   "outputs": [],
   "source": [
    "sentence = \"高于涵目前就讀國立台中教育大學數位內容科技學系\""
   ]
  },
  {
   "cell_type": "code",
   "execution_count": 5,
   "metadata": {},
   "outputs": [
    {
     "name": "stdout",
     "output_type": "stream",
     "text": [
      "預設模式:高于涵|目前|就讀|國立台中教育大學|數位內容科技學系\n"
     ]
    }
   ],
   "source": [
    "breakword = jieba.cut(sentence, cut_all=False)\n",
    "print (\"預設模式:\"+ '|' . join(breakword))"
   ]
  },
  {
   "cell_type": "code",
   "execution_count": 6,
   "metadata": {},
   "outputs": [
    {
     "name": "stdout",
     "output_type": "stream",
     "text": [
      "全文模式:高于|高于涵|目前|就讀|國立|國立台中教育大學|台中|台中教育大學|教育|大學|數位|數位內容科技學系|內容|科技|學系\n"
     ]
    }
   ],
   "source": [
    "breakword = jieba.cut(sentence, cut_all=True)\n",
    "print (\"全文模式:\"+ '|' . join(breakword))"
   ]
  },
  {
   "cell_type": "code",
   "execution_count": 7,
   "metadata": {},
   "outputs": [
    {
     "name": "stdout",
     "output_type": "stream",
     "text": [
      "收尋引擎:高于|高于涵|目前|就讀|國立|台中|教育|大學|國立台中教育大學|數位|內容|科技|學系|數位內容科技學系\n"
     ]
    }
   ],
   "source": [
    "breakword = jieba.cut_for_search(sentence)\n",
    "print (\"收尋引擎:\"+ '|' . join(breakword))"
   ]
  }
 ],
 "metadata": {
  "kernelspec": {
   "display_name": "Python 3",
   "language": "python",
   "name": "python3"
  },
  "language_info": {
   "codemirror_mode": {
    "name": "ipython",
    "version": 3
   },
   "file_extension": ".py",
   "mimetype": "text/x-python",
   "name": "python",
   "nbconvert_exporter": "python",
   "pygments_lexer": "ipython3",
   "version": "3.6.5"
  }
 },
 "nbformat": 4,
 "nbformat_minor": 2
}
